{
 "cells": [
  {
   "cell_type": "code",
   "execution_count": 25,
   "id": "0828aea1",
   "metadata": {},
   "outputs": [],
   "source": [
    "from jupyter_bbox_widget import BBoxWidget\n",
    "import ipywidgets as widgets\n",
    "import os\n",
    "import json\n",
    "import base64\n",
    "import encodings\n",
    "%matplotlib inline\n",
    "from matplotlib import pyplot as plt"
   ]
  },
  {
   "cell_type": "code",
   "execution_count": 36,
   "id": "8031d200",
   "metadata": {},
   "outputs": [
    {
     "data": {
      "application/vnd.jupyter.widget-view+json": {
       "model_id": "2ff326fa4c9440ec8c890f3f4fca43d4",
       "version_major": 2,
       "version_minor": 0
      },
      "text/plain": [
       "BBoxWidget(classes=['This is a lot of 12 point text to test the', '', ''], colors=['#1f77b4', '#ff7f0e', '#2ca…"
      ]
     },
     "metadata": {},
     "output_type": "display_data"
    }
   ],
   "source": [
    "\n",
    "\n",
    "widget = BBoxWidget(\n",
    "    image='1.png',\n",
    "    \n",
    "    classes=['This is a lot of 12 point text to test the', '', ''],\n",
    " \n",
    ")\n",
    "\n",
    "widget"
   ]
  },
  {
   "cell_type": "code",
   "execution_count": 33,
   "id": "af4578ce",
   "metadata": {},
   "outputs": [
    {
     "data": {
      "text/plain": [
       "[]"
      ]
     },
     "execution_count": 33,
     "metadata": {},
     "output_type": "execute_result"
    }
   ],
   "source": [
    "widget.bboxes"
   ]
  },
  {
   "cell_type": "code",
   "execution_count": 10,
   "id": "a7222fb3",
   "metadata": {},
   "outputs": [],
   "source": [
    "def encode_image(filepath):\n",
    "    with open(filepath, 'rb') as f:\n",
    "        image_bytes = f.read()\n",
    "    encoded = str(base64.b64encode(image_bytes), 'utf-8')\n",
    "    return \"data:demo/img/png;base64,\"+encoded"
   ]
  },
  {
   "cell_type": "code",
   "execution_count": 12,
   "id": "f3fdc9aa",
   "metadata": {},
   "outputs": [],
   "source": [
    "widget.image = encode_image('h.png')\n",
    "widget.bboxes = []"
   ]
  },
  {
   "cell_type": "code",
   "execution_count": null,
   "id": "c94e7954",
   "metadata": {},
   "outputs": [],
   "source": [
    "|"
   ]
  }
 ],
 "metadata": {
  "kernelspec": {
   "display_name": "Python 3 (ipykernel)",
   "language": "python",
   "name": "python3"
  },
  "language_info": {
   "codemirror_mode": {
    "name": "ipython",
    "version": 3
   },
   "file_extension": ".py",
   "mimetype": "text/x-python",
   "name": "python",
   "nbconvert_exporter": "python",
   "pygments_lexer": "ipython3",
   "version": "3.8.10"
  }
 },
 "nbformat": 4,
 "nbformat_minor": 5
}
