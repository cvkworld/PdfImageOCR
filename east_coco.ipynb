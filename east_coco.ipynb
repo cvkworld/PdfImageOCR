{
 "cells": [
  {
   "cell_type": "code",
   "execution_count": null,
   "id": "5b1027a5",
   "metadata": {},
   "outputs": [],
   "source": [
    "from imutils.object_detection import non_max_suppression\n",
    "import numpy as np\n",
    "import cv2\n",
    "\n",
    "def EAST_text_detector(original, image, confidence=0.25):\n",
    "    # Set the new width and height and determine the changed ratio\n",
    "    (h, W) = image.shape[:2]\n",
    "    (newW, newH) = (1024, 2048)\n",
    "    rW = W / float(newW)\n",
    "    rH = h / float(newH)\n",
    "\n",
    "    # Resize the image and grab the new image dimensions\n",
    "    image = cv2.resize(image, (newW, newH))\n",
    "    (h, W) = image.shape[:2]\n",
    "\n",
    "    # Define the two output layer names for the EAST detector model that\n",
    "    # we are interested -- the first is the output probabilities and the\n",
    "    # second can be used to derive the bounding box coordinates of text\n",
    "    layerNames = [\n",
    "        \"feature_fusion/Conv_7/Sigmoid\",\n",
    "        \"feature_fusion/concat_3\"]\n",
    "\n",
    "    net = cv2.dnn.readNet('frozen_east_text_detection.pb')\n",
    "\n",
    "    # Construct a blob from the image and then perform a forward pass of\n",
    "    # the model to obtain the two output layer sets\n",
    "    blob = cv2.dnn.blobFromImage(image, 1.0, (W, h), (123.68, 116.78, 103.94), swapRB=True, crop=False)\n",
    "    net.setInput(blob)\n",
    "    (scores, geometry) = net.forward(layerNames)\n",
    "\n",
    "    # Grab the number of rows and columns from the scores volume, then\n",
    "    # initialize our set of bounding box rectangles and corresponding\n",
    "    # confidence scores\n",
    "    (numRows, numCols) = scores.shape[2:4]\n",
    "    rects = []\n",
    "    confidences = []\n",
    "\n",
    "    # Loop over the number of rows\n",
    "    for y in range(0, numRows):\n",
    "        # Extract the scores (probabilities), followed by the geometrical\n",
    "        # data used to derive potential bounding box coordinates that\n",
    "        # surround text\n",
    "        scoresData = scores[0, 0, y]\n",
    "        xData0 = geometry[0, 0, y]\n",
    "        xData1 = geometry[0, 1, y]\n",
    "        xData2 = geometry[0, 2, y]\n",
    "        xData3 = geometry[0, 3, y]\n",
    "        anglesData = geometry[0, 4, y]\n",
    "\n",
    "        # Loop over the number of columns\n",
    "        for x in range(0, numCols):\n",
    "            # If our score does not have sufficient probability, ignore it\n",
    "            if scoresData[x] < confidence:\n",
    "                continue\n",
    "\n",
    "            # Compute the offset factor as our resulting feature maps will\n",
    "            # be 4x smaller than the input image\n",
    "            (offsetX, offsetY) = (x * 4.0, y * 4.0)\n",
    "\n",
    "            # Extract the rotation angle for the prediction and then\n",
    "            # compute the sin and cosine\n",
    "            angle = anglesData[x]\n",
    "            cos = np.cos(angle)\n",
    "            sin = np.sin(angle)\n",
    "\n",
    "            # Use the geometry volume to derive the width and height of\n",
    "            # the bounding box\n",
    "            h = xData0[x] + xData2[x]\n",
    "            w = xData1[x] + xData3[x]\n",
    "\n",
    "            # Compute both the starting and ending (x, y)-coordinates for\n",
    "            # the text prediction bounding box\n",
    "            endX = int(offsetX + (cos * xData1[x]) + (sin * xData2[x]))\n",
    "            endY = int(offsetY - (sin * xData1[x]) + (cos * xData2[x]))\n",
    "            startX = int(endX - w)\n",
    "            startY = int(endY - h)\n",
    "\n",
    "            # Add the bounding box coordinates and probability score to\n",
    "            # our respective lists\n",
    "            rects.append((startX, startY, endX, endY))\n",
    "            confidences.append(scoresData[x])\n",
    "\n",
    "    # Apply non-maxima suppression to suppress weak, overlapping bounding\n",
    "    # boxes\n",
    "    boxes = non_max_suppression(np.array(rects), probs=confidences)\n",
    "\n",
    "    # Loop over the bounding boxes\n",
    "    for (startX, startY, endX, endY) in boxes:\n",
    "        # Scale the bounding box coordinates based on the respective\n",
    "        # ratios\n",
    "        startX = int(startX * rW)\n",
    "        startY = int(startY * rH)\n",
    "        endX = int(endX * rW)\n",
    "        endY = int(endY * rH)\n",
    "\n",
    "        # Draw the bounding box on the image\n",
    "        cv2.rectangle(original, (startX, startY), (endX, endY), (36, 255, 12), 2)\n",
    "    return original\n",
    "\n",
    "# Convert to grayscale and Otsu's threshold\n",
    "image = cv2.imread('demo/img/demo2.png')\n",
    "gray = cv2.cvtColor(image, cv2.COLOR_BGR2GRAY)\n",
    "thresh = cv2.threshold(gray, 0, 255, cv2.THRESH_BINARY_INV + cv2.THRESH_OTSU)[1]\n",
    "clean = thresh.copy()\n",
    "\n",
    "# Remove horizontal lines\n",
    "horizontal_kernel = cv2.getStructuringElement(cv2.MORPH_RECT, (15,1))\n",
    "detect_horizontal = cv2.morphologyEx(thresh, cv2.MORPH_OPEN, horizontal_kernel, iterations=2)\n",
    "cnts = cv2.findContours(detect_horizontal, cv2.RETR_EXTERNAL, cv2.CHAIN_APPROX_SIMPLE)\n",
    "cnts = cnts[0] if len(cnts) == 2 else cnts[1]\n",
    "for c in cnts:\n",
    "    cv2.drawContours(clean, [c], -1, 0, 3)\n",
    "\n",
    "# Remove vertical lines\n",
    "vertical_kernel = cv2.getStructuringElement(cv2.MORPH_RECT, (1,30))\n",
    "detect_vertical = cv2.morphologyEx(thresh, cv2.MORPH_OPEN, vertical_kernel, iterations=2)\n",
    "cnts = cv2.findContours(detect_vertical, cv2.RETR_EXTERNAL, cv2.CHAIN_APPROX_SIMPLE)\n",
    "cnts = cnts[0] if len(cnts) == 2 else cnts[1]\n",
    "for c in cnts:\n",
    "    cv2.drawContours(clean, [c], -1, 0, 3)\n",
    "\n",
    "# Remove non-text contours (curves, diagonals, circlar shapes)\n",
    "cnts = cv2.findContours(clean, cv2.RETR_EXTERNAL, cv2.CHAIN_APPROX_SIMPLE)\n",
    "cnts = cnts[0] if len(cnts) == 2 else cnts[1]\n",
    "for c in cnts:\n",
    "    area = cv2.contourArea(c)\n",
    "    if area > 1500:\n",
    "        cv2.drawContours(clean, [c], -1, 0, -1)\n",
    "    peri = cv2.arcLength(c, True)\n",
    "    approx = cv2.approxPolyDP(c, 0.02 * peri, True)\n",
    "    x,y,w,h = cv2.boundingRect(c)\n",
    "    if len(approx) == 4:\n",
    "        cv2.rectangle(clean, (x, y), (x + w, y + h), 0, -1)\n",
    "\n",
    "# Bitwise-and with original image to remove contours\n",
    "filtered = cv2.bitwise_and(image, image, mask=clean)\n",
    "filtered[clean==0] = (255,255,255)\n",
    "\n",
    "# Perform EAST text detection\n",
    "result = EAST_text_detector(image, filtered)\n",
    "\n",
    "cv2.imshow('filtered', filtered)\n",
    "cv2.imshow('result', result)\n",
    "cv2.waitKey()"
   ]
  },
  {
   "cell_type": "code",
   "execution_count": 1,
   "id": "93aea29c",
   "metadata": {},
   "outputs": [],
   "source": [
    "import numpy as np\n",
    "import pdf2image\n",
    "import cv2\n"
   ]
  },
  {
   "cell_type": "code",
   "execution_count": 2,
   "id": "919263a6",
   "metadata": {},
   "outputs": [],
   "source": [
    "def convert_pdf_to_image(document, dpi):\n",
    "    images = []\n",
    "    images.extend(\n",
    "                    list(\n",
    "                        map(\n",
    "                            lambda image: cv2.cvtColor(\n",
    "                                np.asarray(image), code=cv2.COLOR_RGB2BGR\n",
    "                            ),\n",
    "                            pdf2image.convert_from_path(document, dpi=dpi),\n",
    "                        )\n",
    "                    )\n",
    "                )\n",
    "    return images"
   ]
  },
  {
   "cell_type": "code",
   "execution_count": 3,
   "id": "03ab30b2",
   "metadata": {},
   "outputs": [],
   "source": [
    "images = convert_pdf_to_image('example1.pdf',300)"
   ]
  },
  {
   "cell_type": "code",
   "execution_count": 4,
   "id": "29c25323",
   "metadata": {},
   "outputs": [
    {
     "name": "stdout",
     "output_type": "stream",
     "text": [
      "1\n"
     ]
    }
   ],
   "source": [
    "print(len(images))"
   ]
  },
  {
   "cell_type": "code",
   "execution_count": 5,
   "id": "7f302987",
   "metadata": {},
   "outputs": [
    {
     "name": "stdout",
     "output_type": "stream",
     "text": [
      "(3508, 2481, 3)\n"
     ]
    }
   ],
   "source": [
    "print(images[0].shape)"
   ]
  },
  {
   "cell_type": "code",
   "execution_count": 8,
   "id": "b92d2b3e",
   "metadata": {},
   "outputs": [
    {
     "data": {
      "text/plain": [
       "<matplotlib.image.AxesImage at 0x7f40623cae80>"
      ]
     },
     "execution_count": 8,
     "metadata": {},
     "output_type": "execute_result"
    },
    {
     "data": {
      "image/png": "[encoded data removed]",
      "text/plain": [
       "<Figure size 432x288 with 1 Axes>"
      ]
     },
     "metadata": {
      "needs_background": "light"
     },
     "output_type": "display_data"
    }
   ],
   "source": [
    "import matplotlib.pyplot as plt\n",
    "first_page = images[0]\n",
    "plt.imshow(first_page)"
   ]
  },
  {
   "cell_type": "code",
   "execution_count": 9,
   "id": "ab042cfa",
   "metadata": {
    "scrolled": true
   },
   "outputs": [
    {
     "data": {
      "text/plain": [
       "<matplotlib.image.AxesImage at 0x7f40602fba00>"
      ]
     },
     "execution_count": 9,
     "metadata": {},
     "output_type": "execute_result"
    },
    {
     "data": {
      "image/png": "[encoded data removed]",
      "text/plain": [
       "<Figure size 432x288 with 1 Axes>"
      ]
     },
     "metadata": {
      "needs_background": "light"
     },
     "output_type": "display_data"
    }
   ],
   "source": [
    "gray = cv2.cvtColor(first_page, cv2.COLOR_BGR2GRAY)\n",
    "edges = cv2.Canny(gray, 50,150,apertureSize = 3)\n",
    "plt.imshow(first_page)"
   ]
  },
  {
   "cell_type": "code",
   "execution_count": 10,
   "id": "96d14a11",
   "metadata": {},
   "outputs": [
    {
     "data": {
      "text/plain": [
       "<matplotlib.image.AxesImage at 0x7f40383872b0>"
      ]
     },
     "execution_count": 10,
     "metadata": {},
     "output_type": "execute_result"
    },
    {
     "data": {
      "image/png": "[encoded data removed]",
      "text/plain": [
       "<Figure size 432x288 with 1 Axes>"
      ]
     },
     "metadata": {
      "needs_background": "light"
     },
     "output_type": "display_data"
    }
   ],
   "source": [
    "from scipy.spatial import distance\n",
    "minLineLength = 100 # Min length of line. Line segments shorter than this are rejected.\n",
    "maxLineGap = 10 # Maximum allowed gap between line segments to treat them as single line.\n",
    "lines = cv2.HoughLinesP(edges,1,np.pi/180,200, minLineLength,maxLineGap)\n",
    "for line in lines:\n",
    "    for x1,y1,x2,y2 in line:\n",
    "        if distance.euclidean((x1,y1), (x2,y2)) > 600:\n",
    "            cv2.line(first_page ,(x1,y1),(x2,y2),(0,255,0),2)\n",
    "plt.imshow(first_page)"
   ]
  },
  {
   "cell_type": "code",
   "execution_count": 11,
   "id": "05878ddb",
   "metadata": {},
   "outputs": [],
   "source": [
    "def detect_orientation(all_lines):\n",
    "    vertical = []\n",
    "    horizontal = []\n",
    "    for line in all_lines:\n",
    "        for x1,y1,x2,y2 in line:\n",
    "            if distance.euclidean((x1,y1), (x2,y2)) > 600:\n",
    "                if x1 == x2:\n",
    "                    vertical.append(line)\n",
    "                elif y1 == y2:\n",
    "                    horizontal.append(line)\n",
    "    return vertical, horizontal\n",
    "\n",
    "v, h = detect_orientation(lines)"
   ]
  },
  {
   "cell_type": "code",
   "execution_count": 12,
   "id": "18afdffb",
   "metadata": {},
   "outputs": [
    {
     "ename": "IndexError",
     "evalue": "list index out of range",
     "output_type": "error",
     "traceback": [
      "\u001b[0;31m---------------------------------------------------------------------------\u001b[0m",
      "\u001b[0;31mIndexError\u001b[0m                                Traceback (most recent call last)",
      "\u001b[0;32m/tmp/ipykernel_2749/3143694993.py\u001b[0m in \u001b[0;36m<module>\u001b[0;34m\u001b[0m\n\u001b[1;32m      2\u001b[0m \u001b[0my\u001b[0m \u001b[0;34m=\u001b[0m \u001b[0msorted\u001b[0m\u001b[0;34m(\u001b[0m\u001b[0;34m[\u001b[0m\u001b[0mvalue\u001b[0m\u001b[0;34m[\u001b[0m\u001b[0;36m0\u001b[0m\u001b[0;34m,\u001b[0m\u001b[0;36m1\u001b[0m\u001b[0;34m]\u001b[0m \u001b[0;32mfor\u001b[0m \u001b[0mvalue\u001b[0m \u001b[0;32min\u001b[0m \u001b[0mh\u001b[0m\u001b[0;34m]\u001b[0m\u001b[0;34m)\u001b[0m \u001b[0;31m# create a list with all the y values in the horizontal lines\u001b[0m\u001b[0;34m\u001b[0m\u001b[0;34m\u001b[0m\u001b[0m\n\u001b[1;32m      3\u001b[0m \u001b[0;34m\u001b[0m\u001b[0m\n\u001b[0;32m----> 4\u001b[0;31m \u001b[0mx_min\u001b[0m\u001b[0;34m,\u001b[0m \u001b[0mx_max\u001b[0m \u001b[0;34m=\u001b[0m \u001b[0mx\u001b[0m\u001b[0;34m[\u001b[0m\u001b[0;34m-\u001b[0m\u001b[0;36m2\u001b[0m\u001b[0;34m]\u001b[0m\u001b[0;34m,\u001b[0m \u001b[0mx\u001b[0m\u001b[0;34m[\u001b[0m\u001b[0;34m-\u001b[0m\u001b[0;36m1\u001b[0m\u001b[0;34m]\u001b[0m\u001b[0;34m\u001b[0m\u001b[0;34m\u001b[0m\u001b[0m\n\u001b[0m\u001b[1;32m      5\u001b[0m \u001b[0my_min\u001b[0m\u001b[0;34m,\u001b[0m \u001b[0my_max\u001b[0m \u001b[0;34m=\u001b[0m \u001b[0my\u001b[0m\u001b[0;34m[\u001b[0m\u001b[0;36m0\u001b[0m\u001b[0;34m]\u001b[0m\u001b[0;34m,\u001b[0m \u001b[0my\u001b[0m\u001b[0;34m[\u001b[0m\u001b[0;34m-\u001b[0m\u001b[0;36m1\u001b[0m\u001b[0;34m]\u001b[0m\u001b[0;34m\u001b[0m\u001b[0;34m\u001b[0m\u001b[0m\n\u001b[1;32m      6\u001b[0m \u001b[0;34m\u001b[0m\u001b[0m\n",
      "\u001b[0;31mIndexError\u001b[0m: list index out of range"
     ]
    }
   ],
   "source": [
    "x = sorted([value[0,0] for value in v]) # create a list with all the x values in the vertical lines\n",
    "y = sorted([value[0,1] for value in h]) # create a list with all the y values in the horizontal lines\n",
    "\n",
    "x_min, x_max = x[-2], x[-1] \n",
    "y_min, y_max = y[0], y[-1]\n",
    "\n",
    "plt.imshow(first_page[ y_min:y_max, x_min:x_max])"
   ]
  },
  {
   "cell_type": "code",
   "execution_count": 89,
   "id": "5c1f5aa2",
   "metadata": {},
   "outputs": [
    {
     "name": "stdout",
     "output_type": "stream",
     "text": [
      "SAINT LOUP PATRIMOINE |\n",
      "\n",
      "' Code apporteur: 850526\n",
      "\n",
      " \n",
      "\n",
      "nplement de commissionnement sur UC Période du: 01/01/2021 au 31/01/2021\n",
      "\n",
      "Libellé Support Assiette de calcul * | Taux quotidien | Taux Annuel Comission\n",
      "(%) complémentaire\n",
      "\n",
      "i\n",
      "\n",
      "    \n",
      "   \n",
      "  \n",
      "\n",
      "  \n",
      " \n",
      " \n",
      " \n",
      "  \n",
      "\n",
      "Total AVIP MULTILIB 1 349 477,51€ i Ta 22,24 €\n",
      "\n",
      "      \n",
      " \n",
      "    \n",
      "\n",
      "   \n",
      "    \n",
      "     \n",
      "\n",
      " \n",
      "\n",
      " \n",
      "\n"
     ]
    }
   ],
   "source": [
    "import pytesseract\n",
    "document_text = pytesseract.image_to_string(first_page[ y_min:y_max, x_min:x_max])\n",
    "for line in document_text.split('\\n'):\n",
    "    print(line)"
   ]
  },
  {
   "cell_type": "code",
   "execution_count": 91,
   "id": "025625c5",
   "metadata": {},
   "outputs": [
    {
     "data": {
      "text/html": [
       "<div>\n",
       "<style scoped>\n",
       "    .dataframe tbody tr th:only-of-type {\n",
       "        vertical-align: middle;\n",
       "    }\n",
       "\n",
       "    .dataframe tbody tr th {\n",
       "        vertical-align: top;\n",
       "    }\n",
       "\n",
       "    .dataframe thead th {\n",
       "        text-align: right;\n",
       "    }\n",
       "</style>\n",
       "<table border=\"1\" class=\"dataframe\">\n",
       "  <thead>\n",
       "    <tr style=\"text-align: right;\">\n",
       "      <th></th>\n",
       "      <th>level</th>\n",
       "      <th>page_num</th>\n",
       "      <th>block_num</th>\n",
       "      <th>par_num</th>\n",
       "      <th>line_num</th>\n",
       "      <th>word_num</th>\n",
       "      <th>left</th>\n",
       "      <th>top</th>\n",
       "      <th>width</th>\n",
       "      <th>height</th>\n",
       "      <th>conf</th>\n",
       "      <th>text</th>\n",
       "    </tr>\n",
       "  </thead>\n",
       "  <tbody>\n",
       "    <tr>\n",
       "      <th>4</th>\n",
       "      <td>5</td>\n",
       "      <td>1</td>\n",
       "      <td>1</td>\n",
       "      <td>1</td>\n",
       "      <td>1</td>\n",
       "      <td>1</td>\n",
       "      <td>1272</td>\n",
       "      <td>28</td>\n",
       "      <td>108</td>\n",
       "      <td>29</td>\n",
       "      <td>92.631767</td>\n",
       "      <td>SAINT</td>\n",
       "    </tr>\n",
       "    <tr>\n",
       "      <th>5</th>\n",
       "      <td>5</td>\n",
       "      <td>1</td>\n",
       "      <td>1</td>\n",
       "      <td>1</td>\n",
       "      <td>1</td>\n",
       "      <td>2</td>\n",
       "      <td>1393</td>\n",
       "      <td>28</td>\n",
       "      <td>98</td>\n",
       "      <td>28</td>\n",
       "      <td>90.079353</td>\n",
       "      <td>LOUP</td>\n",
       "    </tr>\n",
       "    <tr>\n",
       "      <th>6</th>\n",
       "      <td>5</td>\n",
       "      <td>1</td>\n",
       "      <td>1</td>\n",
       "      <td>1</td>\n",
       "      <td>1</td>\n",
       "      <td>3</td>\n",
       "      <td>1506</td>\n",
       "      <td>27</td>\n",
       "      <td>227</td>\n",
       "      <td>29</td>\n",
       "      <td>90.079353</td>\n",
       "      <td>PATRIMOINE</td>\n",
       "    </tr>\n",
       "    <tr>\n",
       "      <th>7</th>\n",
       "      <td>5</td>\n",
       "      <td>1</td>\n",
       "      <td>1</td>\n",
       "      <td>1</td>\n",
       "      <td>1</td>\n",
       "      <td>4</td>\n",
       "      <td>1965</td>\n",
       "      <td>18</td>\n",
       "      <td>1</td>\n",
       "      <td>21</td>\n",
       "      <td>81.206779</td>\n",
       "      <td>|</td>\n",
       "    </tr>\n",
       "    <tr>\n",
       "      <th>11</th>\n",
       "      <td>5</td>\n",
       "      <td>1</td>\n",
       "      <td>2</td>\n",
       "      <td>1</td>\n",
       "      <td>1</td>\n",
       "      <td>1</td>\n",
       "      <td>1257</td>\n",
       "      <td>162</td>\n",
       "      <td>1</td>\n",
       "      <td>6</td>\n",
       "      <td>30.518661</td>\n",
       "      <td>'</td>\n",
       "    </tr>\n",
       "    <tr>\n",
       "      <th>12</th>\n",
       "      <td>5</td>\n",
       "      <td>1</td>\n",
       "      <td>2</td>\n",
       "      <td>1</td>\n",
       "      <td>1</td>\n",
       "      <td>2</td>\n",
       "      <td>1290</td>\n",
       "      <td>159</td>\n",
       "      <td>106</td>\n",
       "      <td>34</td>\n",
       "      <td>92.810417</td>\n",
       "      <td>Code</td>\n",
       "    </tr>\n",
       "    <tr>\n",
       "      <th>13</th>\n",
       "      <td>5</td>\n",
       "      <td>1</td>\n",
       "      <td>2</td>\n",
       "      <td>1</td>\n",
       "      <td>1</td>\n",
       "      <td>3</td>\n",
       "      <td>1412</td>\n",
       "      <td>160</td>\n",
       "      <td>205</td>\n",
       "      <td>41</td>\n",
       "      <td>91.376686</td>\n",
       "      <td>apporteur:</td>\n",
       "    </tr>\n",
       "    <tr>\n",
       "      <th>14</th>\n",
       "      <td>5</td>\n",
       "      <td>1</td>\n",
       "      <td>2</td>\n",
       "      <td>1</td>\n",
       "      <td>1</td>\n",
       "      <td>4</td>\n",
       "      <td>1651</td>\n",
       "      <td>158</td>\n",
       "      <td>149</td>\n",
       "      <td>35</td>\n",
       "      <td>96.825180</td>\n",
       "      <td>850526</td>\n",
       "    </tr>\n",
       "    <tr>\n",
       "      <th>18</th>\n",
       "      <td>5</td>\n",
       "      <td>1</td>\n",
       "      <td>3</td>\n",
       "      <td>1</td>\n",
       "      <td>1</td>\n",
       "      <td>1</td>\n",
       "      <td>1257</td>\n",
       "      <td>235</td>\n",
       "      <td>125</td>\n",
       "      <td>3</td>\n",
       "      <td>95.000000</td>\n",
       "      <td></td>\n",
       "    </tr>\n",
       "    <tr>\n",
       "      <th>22</th>\n",
       "      <td>5</td>\n",
       "      <td>1</td>\n",
       "      <td>4</td>\n",
       "      <td>1</td>\n",
       "      <td>1</td>\n",
       "      <td>1</td>\n",
       "      <td>0</td>\n",
       "      <td>293</td>\n",
       "      <td>188</td>\n",
       "      <td>43</td>\n",
       "      <td>52.552647</td>\n",
       "      <td>nplement</td>\n",
       "    </tr>\n",
       "  </tbody>\n",
       "</table>\n",
       "</div>"
      ],
      "text/plain": [
       "    level  page_num  block_num  par_num  line_num  word_num  left  top  width  \\\n",
       "4       5         1          1        1         1         1  1272   28    108   \n",
       "5       5         1          1        1         1         2  1393   28     98   \n",
       "6       5         1          1        1         1         3  1506   27    227   \n",
       "7       5         1          1        1         1         4  1965   18      1   \n",
       "11      5         1          2        1         1         1  1257  162      1   \n",
       "12      5         1          2        1         1         2  1290  159    106   \n",
       "13      5         1          2        1         1         3  1412  160    205   \n",
       "14      5         1          2        1         1         4  1651  158    149   \n",
       "18      5         1          3        1         1         1  1257  235    125   \n",
       "22      5         1          4        1         1         1     0  293    188   \n",
       "\n",
       "    height       conf        text  \n",
       "4       29  92.631767       SAINT  \n",
       "5       28  90.079353        LOUP  \n",
       "6       29  90.079353  PATRIMOINE  \n",
       "7       21  81.206779           |  \n",
       "11       6  30.518661           '  \n",
       "12      34  92.810417        Code  \n",
       "13      41  91.376686  apporteur:  \n",
       "14      35  96.825180      850526  \n",
       "18       3  95.000000              \n",
       "22      43  52.552647    nplement  "
      ]
     },
     "execution_count": 91,
     "metadata": {},
     "output_type": "execute_result"
    }
   ],
   "source": [
    "import pandas as pd\n",
    "df = pytesseract.image_to_data(first_page[ y_min:y_max, x_min:x_max], output_type=pytesseract.Output.DATAFRAME).dropna()\n",
    "df.head(10)"
   ]
  },
  {
   "cell_type": "code",
   "execution_count": null,
   "id": "9b0866d7",
   "metadata": {},
   "outputs": [],
   "source": []
  }
 ],
 "metadata": {
  "kernelspec": {
   "display_name": "Python 3 (ipykernel)",
   "language": "python",
   "name": "python3"
  },
  "language_info": {
   "codemirror_mode": {
    "name": "ipython",
    "version": 3
   },
   "file_extension": ".py",
   "mimetype": "text/x-python",
   "name": "python",
   "nbconvert_exporter": "python",
   "pygments_lexer": "ipython3",
   "version": "3.8.10"
  }
 },
 "nbformat": 4,
 "nbformat_minor": 5
}
