{
 "cells": [
  {
   "cell_type": "code",
   "execution_count": 7,
   "id": "3b3e921d",
   "metadata": {},
   "outputs": [],
   "source": [
    "import numpy as np\n",
    "from PIL import ImageGrab\n",
    "import cv2\n",
    "import time\n"
   ]
  },
  {
   "cell_type": "code",
   "execution_count": 8,
   "id": "6f0ac391",
   "metadata": {},
   "outputs": [],
   "source": [
    "img = 'h.png'"
   ]
  },
  {
   "cell_type": "code",
   "execution_count": null,
   "id": "ab6dfdd5",
   "metadata": {},
   "outputs": [],
   "source": [
    "for i in img['r']['g']['b']:\n",
    "    'r': "
   ]
  },
  {
   "cell_type": "code",
   "execution_count": 3,
   "id": "5df6392e",
   "metadata": {},
   "outputs": [],
   "source": [
    "def draw_lines(img, lines):\n",
    "    try:\n",
    "        for line in lines:\n",
    "            coords = line[0]\n",
    "            cv2.line(img, (coords[0],coords[1]), (coords[2],coords[3]), [255,255,255], 3)\n",
    "    except:\n",
    "        pass"
   ]
  },
  {
   "cell_type": "code",
   "execution_count": 4,
   "id": "0529c566",
   "metadata": {},
   "outputs": [],
   "source": [
    "def roi(img, vertices):\n",
    "    mask = np.zeros_like(img)\n",
    "    cv2.fillPoly(mask, vertices, 255)\n",
    "    masked = cv2.bitwise_and(img, mask)\n",
    "    return masked\n"
   ]
  },
  {
   "cell_type": "code",
   "execution_count": 5,
   "id": "dfce6a10",
   "metadata": {},
   "outputs": [],
   "source": [
    "def process_img(original_image):\n",
    "    processed_img = cv2.cvtColor(original_image, cv2.COLOR_BGR2GRAY)\n",
    "    processed_img = cv2.Canny(processed_img, threshold1=200, threshold2=300)\n",
    "    processed_img = cv2.GaussianBlur(processed_img, (3,3), 0 )\n",
    "    vertices = np.array([[10,500],[10,300], [300,200], [500,200], [800,300], [800,500]], np.int32)\n",
    "    processed_img = roi(processed_img, [vertices])\n",
    "\n",
    "    #                       edges\n",
    "    lines = cv2.HoughLinesP(processed_img, 1, np.pi/180, 180, 20, 15)\n",
    "    draw_lines(processed_img,lines)\n",
    "    return processed_img"
   ]
  },
  {
   "cell_type": "code",
   "execution_count": 6,
   "id": "5d02faad",
   "metadata": {},
   "outputs": [],
   "source": [
    "def main():\n",
    "    last_time = time.time()\n",
    "    while(True):\n",
    "        screen =  np.array(ImageGrab.grab(bbox=(0,40, 800, 640)))\n",
    "        new_screen = process_img(screen)\n",
    "        print('Loop took {} seconds'.format(time.time()-last_time))\n",
    "        last_time = time.time()\n",
    "        cv2.imshow('window', new_screen)\n",
    "        #cv2.imshow('window2', cv2.cvtColor(screen, cv2.COLOR_BGR2RGB))\n",
    "        if cv2.waitKey(25) & 0xFF == ord('q'):\n",
    "            cv2.destroyAllWindows()\n",
    "            break"
   ]
  },
  {
   "cell_type": "code",
   "execution_count": null,
   "id": "ecae1f81",
   "metadata": {},
   "outputs": [],
   "source": []
  }
 ],
 "metadata": {
  "kernelspec": {
   "display_name": "Python 3 (ipykernel)",
   "language": "python",
   "name": "python3"
  },
  "language_info": {
   "codemirror_mode": {
    "name": "ipython",
    "version": 3
   },
   "file_extension": ".py",
   "mimetype": "text/x-python",
   "name": "python",
   "nbconvert_exporter": "python",
   "pygments_lexer": "ipython3",
   "version": "3.8.10"
  }
 },
 "nbformat": 4,
 "nbformat_minor": 5
}
