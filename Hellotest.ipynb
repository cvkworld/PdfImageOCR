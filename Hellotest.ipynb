{
 "cells": [
  {
   "cell_type": "code",
   "execution_count": 1,
   "id": "c9dc6ac6",
   "metadata": {},
   "outputs": [],
   "source": [
    "import cv2\n",
    "\n",
    "\n"
   ]
  },
  {
   "cell_type": "code",
   "execution_count": 2,
   "id": "426d5ca9",
   "metadata": {},
   "outputs": [],
   "source": [
    "image = 'h.png'"
   ]
  },
  {
   "cell_type": "code",
   "execution_count": 3,
   "id": "d12dbf2d",
   "metadata": {},
   "outputs": [
    {
     "data": {
      "text/html": [
       "<!DOCTYPE html>\n",
       "<html>\n",
       "<head>\n",
       "<!-- CSS stylesheet -->\n",
       "<link rel=\"stylesheet\" href=\"annotorious-open/annotorious.min.css\">\n",
       "\n",
       "<!-- JS -->\n",
       "<script src=\"annotorious-opens/public/openseadragon/openseadragon.2.4.2.min.js\"></script>\n",
       "<script src=\"annotorious-open/openseadragon-annotorious.min.js\"></script>\n",
       "\n",
       "</head>\n",
       "\n",
       "<body>\n",
       "<!-- JS -->\n",
       "<script src=\"openseadragon/openseadragon.2.4.2.min.js\"></script>\n",
       "<script src=\"openseadragon-annotorious.min.js\"></script>\n",
       "<div id=\"content\">\n",
       "<img id=\"hallstatt\" src=\"h.png\">\n",
       "</div>\n",
       "  <script>\n",
       "    (function() {\n",
       "      var anno = Annotorious.init({\n",
       "        image: 'hallstatt' // image element or ID\n",
       "      });\n",
       "\n",
       "      anno.loadAnnotations('annotations.w3c.json');\n",
       "\n",
       "      // Add event handlers using .on  \n",
       "      anno.on('createAnnotation', function(annotation) {\n",
       "        // Do something\n",
       "      });\n",
       "    })()\n",
       "    \n",
       "    </script>\n",
       "\n",
       "  \n",
       "    </body>\n",
       "</html>\n"
      ],
      "text/plain": [
       "<IPython.core.display.HTML object>"
      ]
     },
     "metadata": {},
     "output_type": "display_data"
    }
   ],
   "source": [
    "%%html\n",
    "<!DOCTYPE html>\n",
    "<html>\n",
    "<head>\n",
    "<!-- CSS stylesheet -->\n",
    "<link rel=\"stylesheet\" href=\"annotorious-open/annotorious.min.css\">\n",
    "\n",
    "<!-- JS -->\n",
    "<script src=\"annotorious-opens/public/openseadragon/openseadragon.2.4.2.min.js\"></script>\n",
    "<script src=\"annotorious-open/openseadragon-annotorious.min.js\"></script>\n",
    "\n",
    "</head>\n",
    "\n",
    "<body>\n",
    "<!-- JS -->\n",
    "<script src=\"openseadragon/openseadragon.2.4.2.min.js\"></script>\n",
    "<script src=\"openseadragon-annotorious.min.js\"></script>\n",
    "<div id=\"content\">\n",
    "<img id=\"hallstatt\" src=\"h.png\">\n",
    "</div>\n",
    "  <script>\n",
    "    (function() {\n",
    "      var anno = Annotorious.init({\n",
    "        image: 'hallstatt' // image element or ID\n",
    "      });\n",
    "\n",
    "      anno.loadAnnotations('annotations.w3c.json');\n",
    "\n",
    "      // Add event handlers using .on  \n",
    "      anno.on('createAnnotation', function(annotation) {\n",
    "        // Do something\n",
    "      });\n",
    "    })()\n",
    "    \n",
    "    </script>\n",
    "\n",
    "  \n",
    "    </body>\n",
    "</html>"
   ]
  },
  {
   "cell_type": "code",
   "execution_count": 4,
   "id": "266e386d",
   "metadata": {
    "scrolled": false
   },
   "outputs": [
    {
     "data": {
      "text/html": [
       "<!DOCTYPE html>\n",
       "<html>\n",
       "<head>\n",
       "<!-- CSS stylesheet -->\n",
       "<link rel=\"stylesheet\" href=\"./annotorious-open/annotorious.min.css\">\n",
       "\n",
       "\n",
       "\n",
       "</head>\n",
       "\n",
       "<body>\n",
       "<!-- JS -->\n",
       "<!-- JS -->\n",
       "<script src=\"./annotorious-open/public/openseadragon/openseadragon.2.4.2.min.js\"></script>\n",
       "<script src=\"./annotorious-open/openseadragon-annotorious.min.js\"></script>\n",
       "<script src=\"./openseadragon/openseadragon.2.4.2.min.js\"></script>\n",
       "<script src=\"./openseadragon/openseadragon-annotorious.min.js\"></script>\n",
       "<div id=\"content\">\n",
       "<img id=\"hallstatt\" src=\"h.png\">\n",
       "</div>\n",
       "<script>\n",
       "(function() {\n",
       "  var anno = Annotorious.init({\n",
       "    image: 'hallstatt' #// image element or ID\n",
       "  });\n",
       "\n",
       "  anno.loadAnnotations('./openseadragon/annotations.w3c.json');\n",
       "\n",
       "#   // Add event handlers using .on  \n",
       "  anno.on('createAnnotation', function(annotation) {\n",
       "#     // Do something\n",
       "  });\n",
       "})()\n",
       "\n",
       "</script>\n",
       "\n",
       "\n",
       "  \n",
       "    </body>\n",
       "</html>\n"
      ],
      "text/plain": [
       "<IPython.core.display.HTML object>"
      ]
     },
     "metadata": {},
     "output_type": "display_data"
    }
   ],
   "source": [
    "%%html\n",
    "<!DOCTYPE html>\n",
    "<html>\n",
    "<head>\n",
    "<!-- CSS stylesheet -->\n",
    "<link rel=\"stylesheet\" href=\"./annotorious-open/annotorious.min.css\">\n",
    "\n",
    "\n",
    "\n",
    "</head>\n",
    "\n",
    "<body>\n",
    "<!-- JS -->\n",
    "<!-- JS -->\n",
    "<script src=\"./annotorious-open/public/openseadragon/openseadragon.2.4.2.min.js\"></script>\n",
    "<script src=\"./annotorious-open/openseadragon-annotorious.min.js\"></script>\n",
    "<script src=\"./openseadragon/openseadragon.2.4.2.min.js\"></script>\n",
    "<script src=\"./openseadragon/openseadragon-annotorious.min.js\"></script>\n",
    "<div id=\"content\">\n",
    "<img id=\"hallstatt\" src=\"h.png\">\n",
    "</div>\n",
    "<script>\n",
    "(function() {\n",
    "  var anno = Annotorious.init({\n",
    "    image: 'hallstatt' #// image element or ID\n",
    "  });\n",
    "\n",
    "  anno.loadAnnotations('./openseadragon/annotations.w3c.json');\n",
    "\n",
    "#   // Add event handlers using .on  \n",
    "  anno.on('createAnnotation', function(annotation) {\n",
    "#     // Do something\n",
    "  });\n",
    "})()\n",
    "\n",
    "</script>\n",
    "\n",
    "\n",
    "  \n",
    "    </body>\n",
    "</html>\n"
   ]
  },
  {
   "cell_type": "code",
   "execution_count": 5,
   "id": "055ac239",
   "metadata": {},
   "outputs": [
    {
     "data": {
      "text/html": [
       "<head>\n",
       "\n",
       "  <link rel=\"stylesheet\" href=\"annotorious.min.css\">\n",
       "</head>\n",
       "<!-- CSS stylesheet -->\n",
       "<link rel=\"stylesheet\" href=\"annotorious.min.css\">\n",
       "\n",
       "<!-- JS -->\n",
       "<script src=\"openseadragon/openseadragon.2.4.2.min.js\"></script>\n",
       "<script src=\"openseadragon-annotorious.min.js\"></script>\n",
       "\n",
       "<body>\n",
       "var anno = OpenSeadragon.Annotorious(viewer, config);\n",
       "<!-- This works -->\n",
       "<div style=\"position:absolute; top:10px; left:10px;\">\n",
       "  <img src=\"h.png\">\n",
       "</div>\n",
       "    <div id=\"content\">\n",
       "    <img id=\"hallstatt\" src=\"h.png\">\n",
       "</div>\n",
       "  <script>\n",
       "    (function() {\n",
       "      var anno = Annotorious.init({\n",
       "        image: 'hallstatt' // image element or ID\n",
       "      });\n",
       "\n",
       "      anno.loadAnnotations('annotations.w3c.json');\n",
       "\n",
       "      // Add event handlers using .on  \n",
       "      anno.on('createAnnotation', function(annotation) {\n",
       "        // Do something\n",
       "      });\n",
       "    })()\n",
       "</script>\n",
       "<script>\n",
       "  window.onload = function() {\n",
       "    var viewer = OpenSeadragon({\n",
       "      id: \"openseadragon1\",\n",
       "      tileSources: {\n",
       "        type: \"image\",\n",
       "        url: \"h.png\"\n",
       "      }\n",
       "    });\n",
       "\n",
       "    // Initialize the Annotorious plugin\n",
       "    var anno = OpenSeadragon.Annotorious(viewer);\n",
       "\n",
       "    // Load annotations in W3C WebAnnotation format\n",
       "    anno.loadAnnotations('annotations.w3c.json');\n",
       "  }\n",
       "</script>\n",
       "\n",
       "  <script type=\"text/javascript\" src=\"annotorious.min.js\"></script>\n",
       "</body>\n"
      ],
      "text/plain": [
       "<IPython.core.display.HTML object>"
      ]
     },
     "metadata": {},
     "output_type": "display_data"
    }
   ],
   "source": [
    "%%html\n",
    "<head>\n",
    "\n",
    "  <link rel=\"stylesheet\" href=\"annotorious.min.css\">\n",
    "</head>\n",
    "<!-- CSS stylesheet -->\n",
    "<link rel=\"stylesheet\" href=\"annotorious.min.css\">\n",
    "\n",
    "<!-- JS -->\n",
    "<script src=\"openseadragon/openseadragon.2.4.2.min.js\"></script>\n",
    "<script src=\"openseadragon-annotorious.min.js\"></script>\n",
    "\n",
    "<body>\n",
    "var anno = OpenSeadragon.Annotorious(viewer, config);\n",
    "<!-- This works -->\n",
    "<div style=\"position:absolute; top:10px; left:10px;\">\n",
    "  <img src=\"h.png\">\n",
    "</div>\n",
    "    <div id=\"content\">\n",
    "    <img id=\"hallstatt\" src=\"h.png\">\n",
    "</div>\n",
    "  <script>\n",
    "    (function() {\n",
    "      var anno = Annotorious.init({\n",
    "        image: 'hallstatt' // image element or ID\n",
    "      });\n",
    "\n",
    "      anno.loadAnnotations('annotations.w3c.json');\n",
    "\n",
    "      // Add event handlers using .on  \n",
    "      anno.on('createAnnotation', function(annotation) {\n",
    "        // Do something\n",
    "      });\n",
    "    })()\n",
    "</script>\n",
    "<script>\n",
    "  window.onload = function() {\n",
    "    var viewer = OpenSeadragon({\n",
    "      id: \"openseadragon1\",\n",
    "      tileSources: {\n",
    "        type: \"image\",\n",
    "        url: \"h.png\"\n",
    "      }\n",
    "    });\n",
    "\n",
    "    // Initialize the Annotorious plugin\n",
    "    var anno = OpenSeadragon.Annotorious(viewer);\n",
    "\n",
    "    // Load annotations in W3C WebAnnotation format\n",
    "    anno.loadAnnotations('annotations.w3c.json');\n",
    "  }\n",
    "</script>\n",
    "\n",
    "  <script type=\"text/javascript\" src=\"annotorious.min.js\"></script>\n",
    "</body>"
   ]
  },
  {
   "cell_type": "code",
   "execution_count": null,
   "id": "b4ae4bfa",
   "metadata": {},
   "outputs": [],
   "source": [
    "a = {\n",
    "    'b':[\n",
    "        {\"id\" : 1, \"k\" : 'c'},\n",
    "        {\"id\" : 2, \"k\" : 'd'},\n",
    "        {\"id\" : 3, \"k\" : 'e'}\n",
    "        \n",
    "    ]\n",
    "}"
   ]
  },
  {
   "cell_type": "code",
   "execution_count": null,
   "id": "69fa5b03",
   "metadata": {},
   "outputs": [],
   "source": [
    "for i in a['b']:\n",
    "    print(i['id'], i['k'])\n",
    "    "
   ]
  },
  {
   "cell_type": "code",
   "execution_count": null,
   "id": "33480fcb",
   "metadata": {},
   "outputs": [],
   "source": [
    "p ={\n",
    "    'f': 'x',\n",
    "    'l': 'z',\n",
    "    'a': 7,\n",
    "    'fc': ['b','g'],\n",
    "    'active': True\n",
    "}"
   ]
  },
  {
   "cell_type": "code",
   "execution_count": null,
   "id": "b9f0106c",
   "metadata": {},
   "outputs": [],
   "source": [
    "print(p['f'])\n",
    "print(p['l'])"
   ]
  },
  {
   "cell_type": "code",
   "execution_count": null,
   "id": "492af325",
   "metadata": {},
   "outputs": [],
   "source": [
    "sn = p.get('ssn', '000000')\n",
    "print(sn)"
   ]
  },
  {
   "cell_type": "code",
   "execution_count": null,
   "id": "d1cdd02b",
   "metadata": {},
   "outputs": [],
   "source": [
    "p['g'] = 'fm'"
   ]
  },
  {
   "cell_type": "code",
   "execution_count": null,
   "id": "d699f09e",
   "metadata": {},
   "outputs": [],
   "source": [
    "print(p)"
   ]
  },
  {
   "cell_type": "code",
   "execution_count": null,
   "id": "86d5e110",
   "metadata": {},
   "outputs": [],
   "source": []
  }
 ],
 "metadata": {
  "kernelspec": {
   "display_name": "Python 3 (ipykernel)",
   "language": "python",
   "name": "python3"
  },
  "language_info": {
   "codemirror_mode": {
    "name": "ipython",
    "version": 3
   },
   "file_extension": ".py",
   "mimetype": "text/x-python",
   "name": "python",
   "nbconvert_exporter": "python",
   "pygments_lexer": "ipython3",
   "version": "3.8.10"
  }
 },
 "nbformat": 4,
 "nbformat_minor": 5
}
